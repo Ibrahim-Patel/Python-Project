{
 "cells": [
  {
   "cell_type": "markdown",
   "metadata": {},
   "source": [
    "# MTH5001: Introduction to Computer Programming 2018/19\n",
    "\n",
    "## Final Report Project: \"Networks\""
   ]
  },
  {
   "cell_type": "markdown",
   "metadata": {},
   "source": [
    "### Instructions:\n",
    "\n",
    "First, please type your name and student number into the Markdown cell below:"
   ]
  },
  {
   "cell_type": "markdown",
   "metadata": {},
   "source": [
    "**Name:** Ibrahim Lunat \n",
    "\n",
    "**Student number:** 170442725 "
   ]
  },
  {
   "cell_type": "markdown",
   "metadata": {},
   "source": [
    "You must write your answers in this Jupyter Notebook, using either Markdown or Python code as appropriate. (You should create new code and/or Markdown cells in the appropriate places, so that your answers are clearly visible.)\n",
    "\n",
    "Your code must be well documented. As a rough guide, you should aim to include one line of comments for each line of code (but you may include more or fewer comments depending on the situation). You should also use sensible variable names, so that your code is as clear as possible. If your code works but is unduly difficult to read, then you may lose marks.\n",
    "\n",
    "For this project, you will need to use the Python package [NetworkX](https://networkx.github.io/) extensively. However, to test your coding skills, in certain questions you will be restricted to using only specific functions. \n",
    "These restrictions are made clear below (see questions 4 and 8).\n",
    "\n",
    "### Submission deadline:\n",
    "\n",
    "You must submit your work via QMPlus (to the \"Final Report Project\" assignment in the \"Final Report Project\" section).\n",
    "\n",
    "The submission deadline is **11:55pm on Monday 29 April, 2019**. Late submissions will be penalised according to the School's [guidelines](https://qmplus.qmul.ac.uk/mod/book/view.php?id=807735&chapterid=89105).\n",
    "\n",
    "Your lecturers will respond to project-related emails until 5:00pm on Friday 26 April, 2019, only. You should aim to have your project finished by this time.\n",
    "\n",
    "### Marking:\n",
    "\n",
    "The project is worth 70% of your final mark for this module.\n",
    "\n",
    "The total number of marks available for the project is 100. \n",
    "\n",
    "Attempt all parts of all questions.\n",
    "\n",
    "When writing up your project, good writing style is even more important than in written exams. \n",
    "According to the [advice in the student handbook](https://qmplus.qmul.ac.uk/mod/book/view.php?id=807735&chapterid=87786),\n",
    "\n",
    "> To get full marks in any assessed work (tests or exams) you must normally not only give the right answers but also explain your working clearly and give reasons for your answers by writing legible and grammatically correct English sentences. Mathematics is about logic and reasoned arguments and the only way to present a reasoned and logical argument is by writing about it clearly. Your writing may include numbers and other mathematical symbols, but they are not enough on their own. You should copy the writing style used in good mathematical textbooks, such as those recommended for your modules. **You can expect to lose marks for poor writing (incorrect grammar and spelling) as well as for poor mathematics (incorrect or unclear logic).**\n",
    "\n",
    "### Plagiarism warning:\n",
    "\n",
    "Your work will be tested for plagiarism, which is an assessment offence, according to the [School's policy on Plagiarism](https://qmplus.qmul.ac.uk/mod/book/view.php?id=807735&chapterid=87787). In particular, while only academic staff will make a judgement on whether plagiarism has occurred in a piece of work, we will use the plagiarism detection software \"Turnitin\" to help us assess how much of work matches other sources. You will have the opportunity to upload your work, see the Turnitin result, and edit your work accordingly before finalising your submission.\n",
    "\n",
    "You may summarise relevant parts of books, online notes, or other resources, as you see fit.\n",
    "However, you must use your own words as far as possible (within reason, e.g. you would not be expected to change the wording of a well-known theorem), and you **must** [reference](https://qmplus.qmul.ac.uk/mod/book/view.php?id=807735&chapterid=87793) any sources that you use. Similarly, if you decide to work with other students on parts of the project, then you **must** write up your work individually. You should also note that most of the questions are personalised in the sense that you will need to import and manipulate data that will be unique to you (i.e. no other student will have the same data)."
   ]
  },
  {
   "cell_type": "markdown",
   "metadata": {},
   "source": [
    "## Background information\n",
    "\n",
    "In this project you will learn about a field of mathematics called [graph theory](https://en.wikipedia.org/wiki/Graph_theory). \n",
    "A **graph** (or **network**) is simply a a collection of **nodes** (or **vertices**), which may or may not be joined by **edges**. \n",
    "(Note that this is not the same as the 'graph' of a function.)\n",
    "\n",
    "Graphs can represent all sorts of real-world (and, indeed, mathematical) objects, e.g. \n",
    "\n",
    "* social networks (nodes represent people, edges represent 'friendship'),\n",
    "* molecules in chemistry/physics (nodes represent atoms, edges represent bonds),\n",
    "* communications networks, e.g. the internet (nodes represent computers/devices, edges represent connections).\n",
    "\n",
    "In this project we will only consider **undirected** graphs (see the above Wikipedia link for a definition).\n",
    "\n",
    "Conventiently, Python has a package, called [NetworkX](https://networkx.github.io/), for constructing and analysing graphs. \n",
    "Let's look at an example. \n",
    "Below we create the famous [Petersen graph](https://en.wikipedia.org/wiki/Petersen_graph) and use some basic NetworkX functions to learn a bit about it."
   ]
  },
  {
   "cell_type": "code",
   "execution_count": 1,
   "metadata": {},
   "outputs": [],
   "source": [
    "# import NetworkX and other useful packages\n",
    "import numpy as np\n",
    "import numpy.linalg as la\n",
    "import matplotlib.pyplot as plt\n",
    "import networkx as nx\n",
    "\n",
    "# create the Petersen graph, storing it in a variable called \"PG\"\n",
    "PG = nx.petersen_graph()"
   ]
  },
  {
   "cell_type": "markdown",
   "metadata": {},
   "source": [
    "Before we doing anything else, it would make sense to draw the graph, to get an idea of what it looks like. \n",
    "We can do this using the NetworkX function `draw_networkx` (together with our old favourtie, matplotlib)."
   ]
  },
  {
   "cell_type": "code",
   "execution_count": 2,
   "metadata": {},
   "outputs": [
    {
     "name": "stderr",
     "output_type": "stream",
     "text": [
      "C:\\Users\\Louie Lunat\\Anaconda3\\lib\\site-packages\\networkx\\drawing\\nx_pylab.py:611: MatplotlibDeprecationWarning: isinstance(..., numbers.Number)\n",
      "  if cb.is_numlike(alpha):\n"
     ]
    },
    {
     "data": {
      "image/png": "[encoded data removed]",
      "text/plain": [
       "<Figure size 432x288 with 1 Axes>"
      ]
     },
     "metadata": {},
     "output_type": "display_data"
    }
   ],
   "source": [
    "nx.draw_networkx(PG, node_color = 'orange', edge_color = 'blue', with_labels=True)\n",
    "plt.xticks([])\n",
    "plt.yticks([])\n",
    "plt.show()"
   ]
  },
  {
   "cell_type": "code",
   "execution_count": 3,
   "metadata": {},
   "outputs": [
    {
     "name": "stdout",
     "output_type": "stream",
     "text": [
      "[[0. 1. 2. 2. 1. 1. 2. 2. 2. 2.]\n",
      " [1. 0. 1. 2. 2. 2. 1. 2. 2. 2.]\n",
      " [2. 1. 0. 1. 2. 2. 2. 1. 2. 2.]\n",
      " [2. 2. 1. 0. 1. 2. 2. 2. 1. 2.]\n",
      " [1. 2. 2. 1. 0. 2. 2. 2. 2. 1.]\n",
      " [1. 2. 2. 2. 2. 0. 2. 1. 1. 2.]\n",
      " [2. 1. 2. 2. 2. 2. 0. 2. 1. 1.]\n",
      " [2. 2. 1. 2. 2. 1. 2. 0. 2. 1.]\n",
      " [2. 2. 2. 1. 2. 1. 1. 2. 0. 2.]\n",
      " [2. 2. 2. 2. 1. 2. 1. 1. 2. 0.]]\n"
     ]
    }
   ],
   "source": [
    "import scipy\n",
    "def distance_matrix(G):\n",
    "    A = nx.adjacency_matrix(G)\n",
    "    A = A.toarray()\n",
    "    return scipy.sparse.csgraph.dijkstra(A,directed=False,unweighted=True)\n",
    "#print(distance_matrix(G))\n",
    "print(distance_matrix(PG))"
   ]
  },
  {
   "cell_type": "markdown",
   "metadata": {},
   "source": [
    "We can see that the graph has 10 nodes, labelled by the integers $0,1,\\ldots,9$. \n",
    "It is also possible to label nodes with other data types, most commonly strings, but we won't do that in this project. \n",
    "The nodes of a graph can be accessed via the method `nodes()`:"
   ]
  },
  {
   "cell_type": "code",
   "execution_count": 4,
   "metadata": {},
   "outputs": [
    {
     "data": {
      "text/plain": [
       "NodeView((0, 1, 2, 3, 4, 5, 6, 7, 8, 9))"
      ]
     },
     "execution_count": 4,
     "metadata": {},
     "output_type": "execute_result"
    }
   ],
   "source": [
    "PG.nodes()"
   ]
  },
  {
   "cell_type": "markdown",
   "metadata": {},
   "source": [
    "You can convert this to a Python list if you need to:"
   ]
  },
  {
   "cell_type": "code",
   "execution_count": 5,
   "metadata": {},
   "outputs": [
    {
     "data": {
      "text/plain": [
       "[0, 1, 2, 3, 4, 5, 6, 7, 8, 9]"
      ]
     },
     "execution_count": 5,
     "metadata": {},
     "output_type": "execute_result"
    }
   ],
   "source": [
    "list(PG.nodes())"
   ]
  },
  {
   "cell_type": "markdown",
   "metadata": {},
   "source": [
    "This (hopefully) makes it clear that the node labels do in fact have type `int`, at least in our example.\n",
    "You can also see from the picture that the graph has 15 edges. \n",
    "These can be accessed using the method `edges()`:"
   ]
  },
  {
   "cell_type": "code",
   "execution_count": 6,
   "metadata": {},
   "outputs": [
    {
     "data": {
      "text/plain": [
       "EdgeView([(0, 1), (0, 4), (0, 5), (1, 2), (1, 6), (2, 3), (2, 7), (3, 4), (3, 8), (4, 9), (5, 7), (5, 8), (6, 8), (6, 9), (7, 9)])"
      ]
     },
     "execution_count": 6,
     "metadata": {},
     "output_type": "execute_result"
    }
   ],
   "source": [
    "PG.edges()"
   ]
  },
  {
   "cell_type": "markdown",
   "metadata": {},
   "source": [
    "Again, you can convert this to a list if you need to (try it), and you will see that the elements of the list are tuples. In either case, if you compare the output with the picture, it should become clear what it means, i.e. two nodes labelled $i$ and $j$ are joined by an edge if and only if the pair $(i, j)$ appears in `PG.edges()`. "
   ]
  },
  {
   "cell_type": "code",
   "execution_count": 7,
   "metadata": {},
   "outputs": [
    {
     "data": {
      "text/plain": [
       "[(0, 1),\n",
       " (0, 4),\n",
       " (0, 5),\n",
       " (1, 2),\n",
       " (1, 6),\n",
       " (2, 3),\n",
       " (2, 7),\n",
       " (3, 4),\n",
       " (3, 8),\n",
       " (4, 9),\n",
       " (5, 7),\n",
       " (5, 8),\n",
       " (6, 8),\n",
       " (6, 9),\n",
       " (7, 9)]"
      ]
     },
     "execution_count": 7,
     "metadata": {},
     "output_type": "execute_result"
    }
   ],
   "source": [
    "list(PG.edges)"
   ]
  },
  {
   "cell_type": "markdown",
   "metadata": {},
   "source": [
    "So far we haven't said much about how graphs are related to **mathematics**. It turns out that a graph can be completely defined by its [adjacency matrix](https://en.wikipedia.org/wiki/Adjacency_matrix). This is simply a matrix $A$ defined as follows: \n",
    "\n",
    "* $A$ has size $n \\times n$, where $n$ is the number of nodes in the graph;\n",
    "* if the nodes labelled $i$ and $j$ form an edge, then the $(i,j)$-entry of $A$ is $1$; if they don't form an edge, the $(i,j)$-entry of $A$ is $0$.\n",
    "\n",
    "This idea is the foundation of [algebraic graph theory](https://en.wikipedia.org/wiki/Algebraic_graph_theory), a field of mathematics used to study graphs by analysing certain matrices.\n",
    "\n",
    "Not surprisingly, you can compute the adjacency matrix of a graph using an appropriate NetworkX function. Let's do this for the Petersen graph:"
   ]
  },
  {
   "cell_type": "code",
   "execution_count": 8,
   "metadata": {},
   "outputs": [],
   "source": [
    "A = nx.adjacency_matrix(PG)"
   ]
  },
  {
   "cell_type": "code",
   "execution_count": 9,
   "metadata": {},
   "outputs": [
    {
     "name": "stdout",
     "output_type": "stream",
     "text": [
      "  (0, 1)\t1\n",
      "  (0, 4)\t1\n",
      "  (0, 5)\t1\n",
      "  (1, 0)\t1\n",
      "  (1, 2)\t1\n",
      "  (1, 6)\t1\n",
      "  (2, 1)\t1\n",
      "  (2, 3)\t1\n",
      "  (2, 7)\t1\n",
      "  (3, 2)\t1\n",
      "  (3, 4)\t1\n",
      "  (3, 8)\t1\n",
      "  (4, 0)\t1\n",
      "  (4, 3)\t1\n",
      "  (4, 9)\t1\n",
      "  (5, 0)\t1\n",
      "  (5, 7)\t1\n",
      "  (5, 8)\t1\n",
      "  (6, 1)\t1\n",
      "  (6, 8)\t1\n",
      "  (6, 9)\t1\n",
      "  (7, 2)\t1\n",
      "  (7, 5)\t1\n",
      "  (7, 9)\t1\n",
      "  (8, 3)\t1\n",
      "  (8, 5)\t1\n",
      "  (8, 6)\t1\n",
      "  (9, 4)\t1\n",
      "  (9, 6)\t1\n",
      "  (9, 7)\t1\n"
     ]
    }
   ],
   "source": [
    "print(A)"
   ]
  },
  {
   "cell_type": "markdown",
   "metadata": {},
   "source": [
    "Note that if you print this 'adjacency matrix' (try it), it doesn't actually look much like a matrix. This is because it doesn't have type `numpy.ndarray` like the matrices/arrays we've worked with in class:"
   ]
  },
  {
   "cell_type": "code",
   "execution_count": 10,
   "metadata": {},
   "outputs": [
    {
     "data": {
      "text/plain": [
       "scipy.sparse.csr.csr_matrix"
      ]
     },
     "execution_count": 10,
     "metadata": {},
     "output_type": "execute_result"
    }
   ],
   "source": [
    "type(nx.adjacency_matrix(PG))"
   ]
  },
  {
   "cell_type": "markdown",
   "metadata": {},
   "source": [
    "However, you can convert it to a `numpy.ndarray` by calling the method `toarray()`:"
   ]
  },
  {
   "cell_type": "code",
   "execution_count": 11,
   "metadata": {},
   "outputs": [],
   "source": [
    "A = A.toarray()"
   ]
  },
  {
   "cell_type": "code",
   "execution_count": 12,
   "metadata": {},
   "outputs": [
    {
     "data": {
      "text/plain": [
       "numpy.ndarray"
      ]
     },
     "execution_count": 12,
     "metadata": {},
     "output_type": "execute_result"
    }
   ],
   "source": [
    "type(A)"
   ]
  },
  {
   "cell_type": "markdown",
   "metadata": {},
   "source": [
    "After doing this, the adjacency matrix looks like you would expect, so you can use all the usual `numpy.linalg` functions on it:"
   ]
  },
  {
   "cell_type": "code",
   "execution_count": 13,
   "metadata": {},
   "outputs": [
    {
     "name": "stdout",
     "output_type": "stream",
     "text": [
      "[[0 1 0 0 1 1 0 0 0 0]\n",
      " [1 0 1 0 0 0 1 0 0 0]\n",
      " [0 1 0 1 0 0 0 1 0 0]\n",
      " [0 0 1 0 1 0 0 0 1 0]\n",
      " [1 0 0 1 0 0 0 0 0 1]\n",
      " [1 0 0 0 0 0 0 1 1 0]\n",
      " [0 1 0 0 0 0 0 0 1 1]\n",
      " [0 0 1 0 0 1 0 0 0 1]\n",
      " [0 0 0 1 0 1 1 0 0 0]\n",
      " [0 0 0 0 1 0 1 1 0 0]]\n"
     ]
    }
   ],
   "source": [
    "print(A)"
   ]
  },
  {
   "cell_type": "markdown",
   "metadata": {},
   "source": [
    "Make sure that you understand what all these $0$'s and $1$'s mean: the $(i,j)$-entry of the adjacency matrix is $1$ if and only if the edges labelled $i$ and $j$ form an edge in the graph; otherwise, it is $0$. For example (remembering that Python starts counting from $0$, not from $1$): the $(0,4)$ entry is $1$, and in the picture above we see that nodes $0$ and $4$ form an edge; on the other hand, the $(1,7)$ entry is $0$, and accordingly nodes $1$ and $7$ don't form an edge."
   ]
  },
  {
   "cell_type": "markdown",
   "metadata": {},
   "source": [
    "You will be working with matrices related to graphs quite a lot in this project, so before you begin you should make sure that you understand what the code we've given you above is doing. \n",
    "You may also like to work through the official [NetworkX tutorial](https://networkx.github.io/documentation/stable/tutorial.html) before attempting the project, bearing in mind that not everything in the tutorial is relevant to the project. \n",
    "(Alternatively, Google for another tutorial if you don't like that one.)\n",
    "\n",
    "**A final remark before we get to the project itself:**\n",
    "\n",
    "You can rest assured that the graphs we consider this project all have the following nice properties:\n",
    "\n",
    "* They are **connected**. This means that for every pair of nodes $i$ and $j$, there is a 'path' of edges joining $i$ to $j$. For example, the Petersen graph is connected, e.g. the nodes labelled $6$ and $7$ do not form an edge, but we can still reach node $7$ from node $6$ via the edges $(6,9)$ and $(9,7)$.\n",
    "* They are **simple**. This means that there is never an edge from a node to itself.\n",
    "\n",
    "You may come across these terms when you are researching the relevant mathematics for various parts of the project, so you should know what they mean."
   ]
  },
  {
   "cell_type": "markdown",
   "metadata": {},
   "source": [
    "## The project\n",
    "\n",
    "As we have already mentioned, in this project you will make extensive use of the Python package [NetworkX](https://networkx.github.io/), which allows you to create and analyse graphs. \n",
    "You are expected to read the relevant parts of the NetworkX documentation, or otherwise learn how to use whatever Python functions you need to complete the project. \n",
    "However, the mini-tutorial which we have provided above should be enough to get you started.\n",
    "\n",
    "You will also need to research and summarise some mathematics related to graphs, and to use your findings to write certain pieces of code 'from scratch', instead of of using NetworkX functions. \n",
    "In these cases (questions 4 and 8), it is **strongly recommended** that you use NetworkX to check your answers.\n",
    "\n",
    "You should structure your report as follows:\n",
    "\n",
    "### Part I: Data import and preliminary investigation [10 marks]\n",
    "\n",
    "You have been provided with a Python file called **\"data.py\"** on QMPlus, which you should save in the same directory as this Jupyter notebook.\n",
    "This file contains a function `create_graph` which constructs a random graph that you will be analysing throughout the project. \n",
    "By following the instructions in question 1 (below), you will create a graph that is unique to you, i.e. no two students will have the same graph.\n",
    "\n",
    "**1. [5 marks]** Execute the following code cell to create your graph, storing it in a variable called `G` (you can change the variable name if you like, but we recommend leaving it as it is). You **must** replace the number \"123456789\" with your 9-digit student number. \n",
    "\n",
    "*Important note: If you do not do this correctly, you will score 0 for this question, and if you are found to have used the same input as another student (rather than your individual student number), then your submission will be reviewed for plagiarism.*"
   ]
  },
  {
   "cell_type": "code",
   "execution_count": 14,
   "metadata": {},
   "outputs": [],
   "source": [
    "from data import create_graph\n",
    "G = create_graph(170442725)"
   ]
  },
  {
   "cell_type": "markdown",
   "metadata": {},
   "source": [
    "**2. [5 marks]** Draw your graph, and calculate how many nodes and edges it has. "
   ]
  },
  {
   "cell_type": "code",
   "execution_count": 15,
   "metadata": {
    "scrolled": true
   },
   "outputs": [
    {
     "data": {
      "image/png": "[encoded data removed]",
      "text/plain": [
       "<Figure size 432x288 with 1 Axes>"
      ]
     },
     "metadata": {},
     "output_type": "display_data"
    }
   ],
   "source": [
    "Position = nx.spring_layout(G, weight = None)\n",
    "#Code adapted from https://networkx.github.io/documentation/networkx-1.9/reference/generated/networkx.drawing.layout.spring_layout.html\n",
    "nx.draw_networkx(G, Position, node_color = 'yellow', edge_color = 'green', with_labels = True)\n",
    "#Code adapted from https://networkx.github.io/documentation/networkx-1.10/reference/generated/networkx.drawing.nx_pylab.draw_networkx.html\n",
    "plt.xticks([])\n",
    "plt.yticks([])\n",
    "plt.show()"
   ]
  },
  {
   "cell_type": "code",
   "execution_count": 16,
   "metadata": {},
   "outputs": [
    {
     "name": "stdout",
     "output_type": "stream",
     "text": [
      "My graph has 47 nodes.\n"
     ]
    }
   ],
   "source": [
    "Nodes_of_my_graph = list((G.nodes()))\n",
    "print(\"My graph has\", len(Nodes_of_my_graph), \"nodes.\")\n",
    "#This code returns how many nodes I have in my graph\n",
    "#Code adapted from https://networkx.github.io/documentation/networkx-1.10/reference/generated/networkx.DiGraph.number_of_nodes.html"
   ]
  },
  {
   "cell_type": "code",
   "execution_count": 17,
   "metadata": {},
   "outputs": [
    {
     "name": "stdout",
     "output_type": "stream",
     "text": [
      "My graph has 95 edges.\n"
     ]
    }
   ],
   "source": [
    "Edges_of_my_graph = list((G.edges()))\n",
    "print(\"My graph has\", len(Edges_of_my_graph), \"edges.\")\n",
    "#This code returns how many edges I have in my graph\n",
    "#Code adapted from https://networkx.github.io/documentation/networkx-1.10/reference/generated/networkx.DiGraph.number_of_nodes.html"
   ]
  },
  {
   "cell_type": "markdown",
   "metadata": {},
   "source": [
    "### Part II: Distance matrices and shortest paths [30 marks]\n",
    "\n",
    "Many properties of graphs can be analysed by using matrices/linear algebra. \n",
    "The rest of your report will involve researching/summarising some of the relevant mathematics, and writing/using Python code to analyse certain properties of your graph from Part I. \n",
    "As explained above, you are allowed to summarise information from books and/or web pages, but you must use your own words and clearly reference any sources you use.\n",
    "\n",
    "**3. [10 marks]** Explain what a \"path\" between two nodes in a graph is, and what the \"distance\" between two nodes is. Explain also what the \"distance matrix\" of a graph is, and how it can be computed using the adjacency matrix. \n",
    "Here you should discuss arbitrary (undirected, simple, connected) graphs, not your specific graph from Part I.\n",
    "\n",
    "Note: You do **not** need to give any proofs, but you must reference any material you use, as explained in the plagiarism warning above."
   ]
  },
  {
   "cell_type": "markdown",
   "metadata": {},
   "source": [
    "## Graph Theory Concepts\n",
    "\n",
    "To define a path in a graph, we have to first define what a graph is. A graph (V,E) is defined as a set of vertices (or nodes) V = {$v_1,...,v_n$} and a set of edges E = {($v_i,v_j$) | for $v_i,v_j$ in V} which connects two vertices. In a directed graph the elements within E are ordered pairs, wheras in an undirected graph the pairs within V ($v_i,v_j$) are unordered. \n",
    "\n",
    "**Definition of a path between two nodes**\n",
    "\n",
    "A path between two nodes $v_i$ and $v_j$ is a sequence of connected edges ($v_a,v_b$),($v_b,v_c$),...,($v_x,v_y$),($v_y,v_z$) without any repetition. A graph is connected if a path exists between any two elements in V and a weighted graph is a graph which has a non-negative weight attached to each edge ($v_i,v_j$) in E. For a simple graph - a graph which has no weight, is undirected and has no loops - the path length is simply the number of edges in the path. \n",
    "\n",
    "**Definition of the distance between two nodes**\n",
    "\n",
    "The distance between any two nodes in a graph is the length of the shortest path between them. When the edges have an associated weight attached to it, the distance between two nodes is the smallest total of weights in any path from node $i$ to node $j$.\n",
    "\n",
    "**Definition of the distance matrix**\n",
    "\n",
    "The distance matrix is a square matrix consisting of all the graph distances from vertex $v_i$ to vertex $v_j$, and the adjacency matrix is a matrix with rows and columns labelled by the vertices in a graph. If the nodes $v_i$ and $v_j$ are directly connected, the corresponding entry will have a 1, otherwise the entry will have a 0. For a simple graph, the adjacency matrix will have 0's on the diagonal. For an undirected graph, the adjacency matrix is symmetric. \n",
    "\n",
    "**How the distance matrix can be computed using the adjacency matrix**\n",
    "\n",
    "The distance matrix can be computed from the adjacency matrix by calculating walks. The adjacency matrix essentially shows all the nodes $v_i$ which are directly connected to $v_j$ by displaying a 1, if two nodes are not connected the matrix will show a zero. \n",
    "\n",
    "Therefore, to compute the distance matrix from the adjacency matrix we multiply the adjacency matrix by itself (Adjacency matrix * Adjacency matrix). This returns the matrix of walk 2, which shows all the $v_i$ and $v_j$ with a distance of two between them. We then continue to work out the walks by multiplying the adjacency matrix by itself until we have worked out how each node $v_i$ is connected to $v_j$. This process is then repeated until all the 0's in the matrix have been accounted for, i.e. we have worked out a distance between each node.\n",
    "\n",
    "However, once we have computed our final matrix this will not be our distance matrix, rather it will be a matrix displaying how many walks we have had to take to reach that matrix. To then use this to compute the distance matrix we have to refer back to each walk we have computed. If the first adjacency matrix displays a 1 this is the shortest path between $v_i$ and $v_j$. We then look at the next matrix computed, i.e. the matrix corresponding to the matrix of walk 2. If two nodes which initially displayed 0, now display a number then the shortest path between them is 2. We then repeat this process until we have worked out a distance matrix.\n",
    "\n",
    "**Bibliography:**\n",
    "\n",
    "1) A. Phips, H. Larry and D.S. Geert, editors. G.D. Soete, J.D Carroll. *Clustering And Classification.* World Scientific, 1996.<br>\n",
    "2) M.R.T. Dale. *Applying Graph Theory in Ecological Research.* Cambridge University Press, 2017.<br>\n",
    "3) http://mathworld.wolfram.com/SimpleGraph.html<br>\n",
    "4) http://mathworld.wolfram.com/GraphDistanceMatrix.html<br>\n",
    "5) http://mathworld.wolfram.com/AdjacencyMatrix.html<br>\n",
    "6) https://qmplus.qmul.ac.uk/pluginfile.php/1227562/mod_resource/content/3/CW4-2018.pdf"
   ]
  },
  {
   "cell_type": "markdown",
   "metadata": {},
   "source": [
    "**4. [10 marks]** Write a function `distance_matrix` which computes the distance matrix of a graph. \n",
    "Your function should return a matrix, represented as an array of type `numpy.ndarray`, of the same shape as the adjacency matrix of the graph. \n",
    "You may use the NetworkX function `adjacency_matrix` to compute the adjacency matrix of the input graph, but you **must not use any other NetworkX functions**."
   ]
  },
  {
   "cell_type": "code",
   "execution_count": 18,
   "metadata": {},
   "outputs": [
    {
     "name": "stdout",
     "output_type": "stream",
     "text": [
      "The distance matrix for my graph is:\n",
      "\n",
      "[[0. 2. 1. ... 2. 2. 3.]\n",
      " [2. 0. 2. ... 2. 3. 3.]\n",
      " [1. 2. 0. ... 3. 2. 3.]\n",
      " ...\n",
      " [2. 2. 3. ... 0. 2. 3.]\n",
      " [2. 3. 2. ... 2. 0. 3.]\n",
      " [3. 3. 3. ... 3. 3. 0.]]\n"
     ]
    }
   ],
   "source": [
    "import scipy\n",
    "def distance_matrix(G):\n",
    "    Adjacency_matrix = nx.adjacency_matrix(G)\n",
    "    #This computes the adjacency matrix using the in-built networkx function\n",
    "    Adjacency_matrix = Adjacency_matrix.toarray()\n",
    "    #This changes the adjacency matrix into a matrix form we can use \n",
    "    return scipy.sparse.csgraph.dijkstra(Adjacency_matrix, unweighted = True, directed = False)\n",
    "    #This implements the dijkstra's algorithm using Fibonacci Heaps.\n",
    "    #I've used Dijkstra’s algorithm to determine the shortest path from one node in my graph to every other node, as my nodes are all connected.\n",
    "    #My graph has no specified direction and has no weight attached to it's edges. Hence, why I've had to implement this into my code. \n",
    "    #Code adapted from https://docs.scipy.org/doc/scipy-0.14.0/reference/generated/scipy.sparse.csgraph.dijkstra.html\n",
    "    #https://medium.com/basecs/finding-the-shortest-path-with-a-little-help-from-dijkstra-613149fbdc8e\n",
    "print(\"The distance matrix for my graph is:\")\n",
    "print()\n",
    "print(distance_matrix(G))"
   ]
  },
  {
   "cell_type": "code",
   "execution_count": 19,
   "metadata": {},
   "outputs": [],
   "source": [
    "#Test this function for the Petersen Graph\n",
    "#print(distance_matrix(PG))"
   ]
  },
  {
   "cell_type": "code",
   "execution_count": 20,
   "metadata": {},
   "outputs": [
    {
     "name": "stdout",
     "output_type": "stream",
     "text": [
      "I am testing my distance matrix by comparing it with the in-built networkx distance matrix.\n",
      "\n",
      "[[ True  True  True ...  True  True  True]\n",
      " [ True  True  True ...  True  True  True]\n",
      " [ True  True  True ...  True  True  True]\n",
      " ...\n",
      " [ True  True  True ...  True  True  True]\n",
      " [ True  True  True ...  True  True  True]\n",
      " [ True  True  True ...  True  True  True]]\n"
     ]
    }
   ],
   "source": [
    "#Test my distance matrix\n",
    "Distance_matrix_using_nx = nx.floyd_warshall_numpy(G)\n",
    "#Code adapted from https://networkx.github.io/documentation/networkx-1.10/reference/generated/networkx.algorithms.shortest_paths.dense.floyd_warshall_numpy.html\n",
    "print(\"I am testing my distance matrix by comparing it with the in-built networkx distance matrix.\")\n",
    "print()\n",
    "print(Distance_matrix_using_nx == distance_matrix(G))\n",
    "#Code adapted from Week 5 lecture notes https://qmplus.qmul.ac.uk/pluginfile.php/1549880/mod_resource/content/1/week5.pdf"
   ]
  },
  {
   "cell_type": "markdown",
   "metadata": {},
   "source": [
    "**5. [5 marks]** Using your function from Question 4, find a pair of nodes $(i,j)$ in your graph from Part I with the property that the distance from $i$ to $j$ is maximal amongst all pairs of nodes in the graph. \n",
    "\n",
    "Note: This means that for every *other* pair of nodes $(i',j')$, the distance from $i'$ to $j'$ is less than or equal to the distance from $i$ to $j$."
   ]
  },
  {
   "cell_type": "code",
   "execution_count": 21,
   "metadata": {},
   "outputs": [
    {
     "name": "stdout",
     "output_type": "stream",
     "text": [
      "The maximal distance between any two nodes in my graph is 5 .\n"
     ]
    }
   ],
   "source": [
    "print(\"The maximal distance between any two nodes in my graph is\", nx.diameter(G),\".\")\n",
    "#This networkx function tells me the diameter of my graph which is the greatest distance between any two nodes in my graph.\n",
    "#M.R.T. Dale. Applying Graph Theory in Ecological Research. Cambridge University Press, 2017.\n",
    "#Code adapted from https://networkx.github.io/documentation/networkx-1.7/reference/generated/networkx.algorithms.distance_measures.diameter.html"
   ]
  },
  {
   "cell_type": "code",
   "execution_count": 22,
   "metadata": {},
   "outputs": [
    {
     "name": "stdout",
     "output_type": "stream",
     "text": [
      "[3, 25] are a pair of nodes in my graph which have the maximal distance 5 between them.\n"
     ]
    }
   ],
   "source": [
    "#print(nx.eccentricity(G))\n",
    "#This in-built networkx function shows the maximum distance from a vertex to all the other vertices in my graph.\n",
    "My_lst = []\n",
    "for i in range (len(Nodes_of_my_graph)):\n",
    "    for j in range (len(Nodes_of_my_graph)):\n",
    "        if distance_matrix(G)[i,j] == nx.diameter(G):\n",
    "            #defining a for loop to access all the entries in the distance matrix.\n",
    "            My_lst.append([i,j])\n",
    "            #if the distance matrix is equal to 5 (my largest distance between any two vertices) I append my empty list to return all the vertices with a distance of 5 between them.\n",
    "#print(My_lst)\n",
    "print(My_lst[0], \"are a pair of nodes in my graph which have the maximal distance\", nx.diameter(G), \"between them.\")\n",
    "#As I have made my code into a list by appending the code so that I can access the first element of my list, this gives me a pair of nodes with the maximum distance of 5 between them.\n",
    "#Therefore, the distance between the nodes 3 and 25 is more than or equal to the distance between every other node (i,j)."
   ]
  },
  {
   "cell_type": "code",
   "execution_count": 23,
   "metadata": {},
   "outputs": [],
   "source": [
    "#Testing the function for the PG graph.\n",
    "#nx.eccentricity(PG)\n",
    "My_lst_PG = []\n",
    "for i in range(9):\n",
    "    for j in range(9):\n",
    "        if distance_matrix(PG)[i,j] == 2.0:\n",
    "            My_lst_PG.append([i,j])\n",
    "#print(My_lst_PG[0])"
   ]
  },
  {
   "cell_type": "markdown",
   "metadata": {},
   "source": [
    "**6. [5 marks]** Find a shortest path between your nodes from Question 5, i.e. one with the shortest possible length, and re-draw your graph so that this path is clearly visible. \n",
    "You should use one colour for the nodes and edges in the path, and a different colour for all other nodes and edges. \n",
    "\n",
    "Hint: You should be able to find a NetworkX function that computes a shortest path."
   ]
  },
  {
   "cell_type": "code",
   "execution_count": 24,
   "metadata": {},
   "outputs": [
    {
     "name": "stdout",
     "output_type": "stream",
     "text": [
      "The nodes which connect the vertices 3 and 25 are [3, 4, 34, 43, 17, 25]\n"
     ]
    }
   ],
   "source": [
    "Shortest_path = nx.bidirectional_shortest_path(G, 3, 25)\n",
    "#This networkx function shows the shortest path between nodes 3 and 25 in my graph.\n",
    "print(\"The nodes which connect the vertices 3 and 25 are\", Shortest_path)\n",
    "#https://networkx.github.io/documentation/stable/reference/algorithms/generated/networkx.algorithms.shortest_paths.unweighted.bidirectional_shortest_path.html#networkx.algorithms.shortest_paths.unweighted.bidirectional_shortest_path"
   ]
  },
  {
   "cell_type": "code",
   "execution_count": 25,
   "metadata": {
    "scrolled": false
   },
   "outputs": [
    {
     "name": "stdout",
     "output_type": "stream",
     "text": [
      "I have drawn the shortest path between nodes 3 and 25 in green.\n"
     ]
    },
    {
     "data": {
      "image/png": "[encoded data removed]",
      "text/plain": [
       "<Figure size 432x288 with 1 Axes>"
      ]
     },
     "metadata": {},
     "output_type": "display_data"
    }
   ],
   "source": [
    "Position = nx.spring_layout(G, weight = None)\n",
    "#Code adapted from https://networkx.github.io/documentation/networkx-1.9/reference/generated/networkx.drawing.layout.spring_layout.html\n",
    "nx.draw_networkx(G, Position, node_color = 'yellow', edge_color = 'yellow', with_labels = True)\n",
    "#Code adapted from https://networkx.github.io/documentation/networkx-1.10/reference/generated/networkx.drawing.nx_pylab.draw_networkx.html\n",
    "nx.draw_networkx(G, Position, nodelist = [3, 4, 34, 43, 17, 25], node_color = 'green', edgelist = [(3,4), (4,34), (34,43), (43,17), (17,25)], edge_color = 'green', with_labels = True)\n",
    "#The nodelist I've inputted is the shortest path between nodes 3 and 25 and the edgelist I've computed myself through logic.\n",
    "#Code adapted from https://networkx.github.io/documentation/networkx-1.10/reference/generated/networkx.drawing.nx_pylab.draw_networkx.html\n",
    "plt.xticks([])\n",
    "plt.yticks([])\n",
    "print(\"I have drawn the shortest path between nodes 3 and 25 in green.\")\n",
    "plt.show()"
   ]
  },
  {
   "cell_type": "code",
   "execution_count": 26,
   "metadata": {},
   "outputs": [],
   "source": [
    "#Testing the function for the PG graph.\n",
    "#Shortest_path_PG = nx.bidirectional_shortest_path(PG, 0, 2)\n",
    "#print(Shortest_path_PG)\n",
    "#Position_PG = nx.spring_layout(PG, weight = 1)\n",
    "#nx.draw_networkx(PG, Position_PG, node_color = 'red', edge_color = 'red', with_labels = True)\n",
    "#nx.draw_networkx(PG, Position_PG, nodelist = [0, 2], node_color = 'yellow', edgelist = [(0,1), (1,2)], edge_color = 'yellow', with_labels = True)\n",
    "#plt.xticks([])\n",
    "#plt.yticks([])\n",
    "#plt.show()"
   ]
  },
  {
   "cell_type": "markdown",
   "metadata": {},
   "source": [
    "#### Part III: Laplacian matrices and spanning trees [30 marks]\n",
    "\n",
    "So far you have learned about two matrices associated with a graph: the adjacency matrix, and the distance matrix. Now you will study a third matrix: the Laplacian.\n",
    "\n",
    "**7. [10 marks]** Explain what the \"degree\" of a node in a graph is, what the \"Laplacian matrix\" of a graph is, what a \"spanning tree\" of a graph is, and how the Laplacian matrix can be used to calculate the number of spanning trees in a graph. \n",
    "Here, again, you should discuss arbitrary (undirected, simple, connected) graphs, not your specific graph from Part I.\n",
    "\n",
    "Note: You do **not** need to give any proofs, but you must reference any material you use, as explained in the plagiarism warning above."
   ]
  },
  {
   "cell_type": "markdown",
   "metadata": {},
   "source": [
    "**Definition of the degree of a node in a graph**\n",
    "\n",
    "The degree of a node is the number of edges incident to the node. When a graph is complete every pair of distinct nodes will have an edge attached to it. In a directed graph the elements within E are ordered pairs, wheras in an undirected graph the pairs within V ($v_i,v_j$) are unordered. Therefore, in a directed graph the edges are directed, wheras in an undirected graph the edges are not directed. \n",
    "\n",
    "**Definition of Laplacian Matrix**\n",
    "\n",
    "Let G be a graph on n vertices labelled 1,...,n. The Laplacian matrix of G is the n x n matrix L = [$l_i$,$_j$] where\n",
    "\n",
    "$$l_i,_j=\\begin{cases}-1&\\text{if $i\\neq j$ and $i$ and $j$ are adjacent,}\\\\0&\\text{if $i\\neq j$ and $i$ is not adjacent to j,}\\\\d_i &\\text{if $i=j$.}\\end{cases}$$\n",
    "\n",
    "The Laplacian matrix can be computed using the degree matrix and the adjacency matrix. The formula is given by Laplacian matrix = Degree matrix - Adjacency matrix.\n",
    "\n",
    "\n",
    "**Definition of a spanning tree of a graph**\n",
    "\n",
    "\n",
    "To define a spanning tree, we first have to define what a tree is.  A tree is a connected simple graph without cycles, where a cycle is defined as a sequence of distinct adjacent nodes that begin and end at the same vertex. A tree can also be defined as a finite set of nodes such that:\n",
    "\n",
    "1. There is a specially designated node called root \n",
    "2. The remaining nodes are partitioned into disjoint sets called subtrees of the root.\n",
    "\n",
    "Knowing this we can now define a spanning tree of a graph G as a tree that is a spanning subgraph of G. A spanning tree is not unique.\n",
    "\n",
    "**How the Laplacian matrix can be used to compute the number of spanning trees**\n",
    "\n",
    "We can compute the number of spanning trees from the Laplacian matrix by using Kirchoff's theorem. We accomplish this by calculating the co-factor for any element in our Laplacian matrix. The result we obtain is the total number of spanning trees. The formula to compute this is :\n",
    "\n",
    "$C_i$$_j$ = $(-1)^i$$^+$$^j$ * |$M_i$$_j$| \n",
    "\n",
    "where |$M_i$$_j$| is the determinant of the Laplacian matrix after removing row i and column j from the Laplacian matrix. We can use any co-factor to compute the number of spanning trees as the result obtained will always be the same.\n",
    "\n",
    "We can also compute the number of spanning trees using the eigenvalues of the laplacian matrix. The number of spanning trees of a graph is \n",
    "\n",
    "$G = \\frac 1 n \\lambda_1\\lambda_2...\\lambda_n$ $_-$$_1$\n",
    "\n",
    "\n",
    "**Bibliography:**\n",
    "\n",
    "1) A. Phips, H. Larry and D.S. Geert, editors. *Clustering And Classification.* World Scientific, 1996.<br>\n",
    "2) M.R.T. Dale. *Applying Graph Theory in Ecological Research.* Cambridge University Press, 2017.<br>\n",
    "3) H.T. Lau. *A Java Library of Graph Algorithms and Optimization.* CRC Press, 2006.<br>\n",
    "4) R.C. Wilson. *A study of spectra for comparing graphs and trees.*  Science Direct, 2008.<br> \n",
    "5) https://www.cs.cmu.edu/~adamchik/21-127/lectures/graphs_1_print.pdf<br>\n",
    "6) http://www.people.vcu.edu/~gasmerom/MAT131/graphs.html<br>\n",
    "7) https://www.geeksforgeeks.org/total-number-spanning-trees-graph/<br>\n",
    "8) https://en.wikipedia.org/wiki/Kirchhoff%27s_theorem<br>\n",
    "9) https://www.geeksforgeeks.org/difference-between-graph-and-tree/<br>\n",
    "10) https://www.geeksforgeeks.org/total-number-spanning-trees-graph/"
   ]
  },
  {
   "cell_type": "markdown",
   "metadata": {},
   "source": [
    "**8. [10 marks]** Write a function `number_of_spanning_trees` which takes as input a graph $G$ and returns the number of spanning trees in $G$. You may use the NetworkX function `adjacency_matrix` to compute the adjacency matrix of the input graph, but you **may not use any other NetworkX functions**.\n",
    "\n",
    "Note: You will probably need to compute the determinant of a certain matrix somewhere in your code. If you use the function `numpy.linalg.det` then your determinant will only be computed approximately, i.e. to a certain numerical precision. This is fine; you will not lose any marks if your code is otherwise correct."
   ]
  },
  {
   "cell_type": "code",
   "execution_count": 27,
   "metadata": {},
   "outputs": [
    {
     "name": "stdout",
     "output_type": "stream",
     "text": [
      "[[0 0 1 ... 0 0 0]\n",
      " [0 0 0 ... 0 0 0]\n",
      " [1 0 0 ... 0 0 0]\n",
      " ...\n",
      " [0 0 0 ... 0 0 0]\n",
      " [0 0 0 ... 0 0 0]\n",
      " [0 0 0 ... 0 0 0]]\n"
     ]
    }
   ],
   "source": [
    "Adjacency_matrix = nx.adjacency_matrix(G)\n",
    "Adjacency_matrix = Adjacency_matrix.toarray()\n",
    "print(Adjacency_matrix)"
   ]
  },
  {
   "cell_type": "code",
   "execution_count": 28,
   "metadata": {},
   "outputs": [
    {
     "name": "stdout",
     "output_type": "stream",
     "text": [
      "[[6. 0. 0. ... 0. 0. 0.]\n",
      " [0. 5. 0. ... 0. 0. 0.]\n",
      " [0. 0. 4. ... 0. 0. 0.]\n",
      " ...\n",
      " [0. 0. 0. ... 5. 0. 0.]\n",
      " [0. 0. 0. ... 0. 7. 0.]\n",
      " [0. 0. 0. ... 0. 0. 1.]]\n"
     ]
    }
   ],
   "source": [
    "Degree_matrix = np.zeros((len(G.nodes()),len(G.nodes())))\n",
    "for i in range(len(Nodes_of_my_graph)):\n",
    "    for j in range(len(Nodes_of_my_graph)):\n",
    "    #This code makes a degree matrix with the size based on how many nodes our graph has.\n",
    "        Degree_matrix [j,j] = len(list(G.edges(j)))\n",
    "        Degree_matrix [i,i] = len(list(G.edges(i)))\n",
    "        #This code assigns every diagonal in our degree matrix to show the number of edges attached to that vertex.\n",
    "print(Degree_matrix)"
   ]
  },
  {
   "cell_type": "code",
   "execution_count": 29,
   "metadata": {},
   "outputs": [
    {
     "name": "stdout",
     "output_type": "stream",
     "text": [
      "I am checking whether my degree matrix has computed the correct number of edges.\n",
      "\n",
      "[ True  True  True  True  True  True  True  True  True  True  True  True\n",
      "  True  True  True  True  True  True  True  True  True  True  True  True\n",
      "  True  True  True  True  True  True  True  True  True  True  True  True\n",
      "  True  True  True  True  True  True  True  True  True  True  True]\n"
     ]
    }
   ],
   "source": [
    "My_degree_matrix_diagonals = Degree_matrix.diagonal()\n",
    "#Code adapted from https://docs.scipy.org/doc/numpy-1.13.0/reference/generated/numpy.diagonal.html\n",
    "Addition_of_each_row = Adjacency_matrix.sum(axis = 0)\n",
    "#Code adapted from https://docs.scipy.org/doc/numpy/reference/generated/numpy.matrix.sum.html\n",
    "print(\"I am checking whether my degree matrix has computed the correct number of edges.\")\n",
    "print()\n",
    "print(My_degree_matrix_diagonals == Addition_of_each_row)\n",
    "#Code adapted from Week 5 lecture notes https://qmplus.qmul.ac.uk/pluginfile.php/1549880/mod_resource/content/1/week5.pdf\n",
    "#By summing the rows of the adjacency matrix I can compute the number of edges for each node.\n",
    "#As the adjacency matrix displays a 1 for each node it is connected to, summing each row of the adjacency matrix will work out how many edges each node has."
   ]
  },
  {
   "cell_type": "code",
   "execution_count": 30,
   "metadata": {},
   "outputs": [],
   "source": [
    "def number_of_spanning_trees(G):\n",
    "    Laplacian_matrix = Degree_matrix - Adjacency_matrix\n",
    "    #I have used kirchoff's theorem to work out the co-factor of the Laplacian matrix \n",
    "    Delete_one_row_of_Laplacian = np.delete(Laplacian_matrix, (0), axis=0)\n",
    "    #I have deleted the first row of the laplacian matrix.\n",
    "    #Code adapted from https://stackoverflow.com/questions/3877491/deleting-rows-in-numpy-array\n",
    "    Delete_one_column_of_Laplacian = np.delete(Delete_one_row_of_Laplacian, (0), axis=1)\n",
    "    #I have now deleted the first column of the laplacian column matrix taking into consideration the deleted row above.\n",
    "    #Code adapted from https://stackoverflow.com/questions/3877491/deleting-rows-in-numpy-array\n",
    "    return abs(np.linalg.det(Delete_one_column_of_Laplacian))\n",
    "    #This computes the determinant of the matrix which in turn works out the number of spanning trees.\n",
    "    #Used the code mentioned in the question to work out the determinant.\n",
    "#Code adapted from https://stackoverflow.com/questions/3877491/deleting-rows-in-numpy-array\n",
    "#Used this website to understand the theory and help me compute the co-factor https://www.geeksforgeeks.org/total-number-spanning-trees-graph/"
   ]
  },
  {
   "cell_type": "markdown",
   "metadata": {},
   "source": [
    "**9 [5 marks]** Use your function from Question 8 to calculate the number of spanning trees in your graph from Part I."
   ]
  },
  {
   "cell_type": "code",
   "execution_count": 31,
   "metadata": {},
   "outputs": [
    {
     "name": "stdout",
     "output_type": "stream",
     "text": [
      "I have 146928383060710899712 spanning trees in my graph\n"
     ]
    }
   ],
   "source": [
    "print(\"I have\", int(number_of_spanning_trees(G)), \"spanning trees in my graph\")\n",
    "#print(\"I have\", number_of_spanning_trees(G), \"spanning trees in my graph\")"
   ]
  },
  {
   "cell_type": "markdown",
   "metadata": {},
   "source": [
    "**10 [5 marks]** Find a minimal spanning tree of your graph from Part I, i.e. one with the smallest possible number of edges. Re-draw your graph in such a way that this spanning tree is clearly visible. You should use one colour for the edges in the spanning tree, and a different colour for all other edges. \n",
    "\n",
    "Hint: You should be able to find a NetworkX function that computes a minimal spanning tree."
   ]
  },
  {
   "cell_type": "code",
   "execution_count": 32,
   "metadata": {},
   "outputs": [
    {
     "name": "stdout",
     "output_type": "stream",
     "text": [
      "This networkx function returns a spanning tree. One of the conditions is satisfied where all the nodes have been listed.\n",
      "\n",
      "[0, 1, 2, 3, 4, 5, 6, 7, 8, 9, 10, 11, 12, 13, 14, 15, 16, 17, 18, 19, 20, 21, 22, 23, 24, 25, 26, 27, 28, 29, 30, 31, 32, 33, 34, 35, 36, 37, 38, 39, 40, 41, 42, 43, 44, 45, 46]\n"
     ]
    }
   ],
   "source": [
    "Min_spanning_tree = nx.minimum_spanning_tree(G)\n",
    "#This networkx function determines the minimum spanning tree.\n",
    "#Code adapted from https://networkx.github.io/documentation/networkx-1.10/reference/generated/networkx.algorithms.mst.minimum_spanning_tree.html\n",
    "print(\"This networkx function returns a spanning tree. One of the conditions is satisfied where all the nodes have been listed.\")\n",
    "print()\n",
    "print(Min_spanning_tree.nodes())"
   ]
  },
  {
   "cell_type": "code",
   "execution_count": 33,
   "metadata": {},
   "outputs": [
    {
     "name": "stdout",
     "output_type": "stream",
     "text": [
      "This networkx function returns a spanning tree. Further conditions are satisfied as the edges do not form a cycle and the edges are not disconnected.\n",
      "\n",
      "[(0, 2), (0, 19), (0, 28), (0, 34), (0, 40), (0, 43), (1, 18), (1, 29), (1, 31), (1, 40), (2, 12), (2, 22), (3, 4), (3, 35), (4, 11), (4, 23), (4, 34), (5, 11), (5, 14), (5, 21), (5, 38), (5, 44), (5, 45), (6, 41), (6, 45), (7, 13), (7, 23), (7, 24), (7, 26), (8, 20), (9, 24), (9, 32), (10, 35), (11, 37), (12, 39), (15, 20), (15, 21), (16, 45), (17, 25), (17, 26), (17, 27), (17, 30), (17, 46), (27, 36), (28, 33), (33, 42)]\n"
     ]
    }
   ],
   "source": [
    "print(\"This networkx function returns a spanning tree. Further conditions are satisfied as the edges do not form a cycle and the edges are not disconnected.\")\n",
    "print()\n",
    "print(sorted(Min_spanning_tree.edges()))\n",
    "#This prints out all the edges of the minimum spanning tree.\n",
    "#Code adapted from https://networkx.github.io/documentation/networkx-1.10/reference/generated/networkx.algorithms.mst.minimum_spanning_tree.html"
   ]
  },
  {
   "cell_type": "code",
   "execution_count": 34,
   "metadata": {},
   "outputs": [
    {
     "name": "stdout",
     "output_type": "stream",
     "text": [
      "I have drawn my minimum spanning tree in yellow, the green lines displayed in the graph are from the edges connecting two vertices which are not included in my minimum spanning tree.\n"
     ]
    },
    {
     "data": {
      "image/png": "[encoded data removed]",
      "text/plain": [
       "<Figure size 432x288 with 1 Axes>"
      ]
     },
     "metadata": {},
     "output_type": "display_data"
    }
   ],
   "source": [
    "Position = nx.spring_layout(G)\n",
    "nx.draw_networkx(G, Position, node_color = 'green', edge_color = 'green', with_labels=True)\n",
    "nx.draw_networkx(G, Position, nodelist = Min_spanning_tree.nodes, node_color = 'yellow', edgelist = sorted(Min_spanning_tree.edges()), edge_color = 'yellow', with_labels=True)\n",
    "#This networkx function draws the minimum spanning tree using it's in-built function, and by using it's ability to understand what the nodes and edges in the minimum spanning tree is. As illustrated above.\n",
    "plt.xticks([])\n",
    "plt.yticks([])\n",
    "print(\"I have drawn my minimum spanning tree in yellow, the green lines displayed in the graph are from the edges connecting two vertices which are not included in my minimum spanning tree.\")\n",
    "plt.show()"
   ]
  },
  {
   "cell_type": "markdown",
   "metadata": {},
   "source": [
    "### Part IV: Eigenvalues and triangles [30 marks]\n",
    "\n",
    "By now you have seen that certain matrices associated with a graph can tell us a lot about the structure of the graph. \n",
    "In this final part of the project, you will investigate this further, by learning how eigenvalues can be used to reveal even more information about graphs.\n",
    "\n",
    "**11. [5 marks]** Explain what a \"triangle\" in a graph is, and quote a formula for calculating the number of triangles in a graph from the eigenvalues of the adjacency matrix.\n",
    "\n",
    "Note: You do **not** need to give any proofs, but you must reference any material you use, as explained in the plagiarism warning above."
   ]
  },
  {
   "cell_type": "markdown",
   "metadata": {
    "collapsed": true
   },
   "source": [
    "**Definition of a traingle in a graph**\n",
    "\n",
    "A triangle can be considered a walk of length 3 which starts and ends at the same vertex $v_i.$ \n",
    "We can compute the number of triangles in an undirected graph in two ways. \n",
    "\n",
    "1. $\\frac 1 6$ trace($A^3$)\n",
    "2. $\\frac 1 6$ $\\sum\\limits_{i=1}^n\\ \\lambda_i^3$\n",
    "\n",
    "\n",
    "The trace is defined as the sum of the diagonals and $A^3$ is defined as the the adjacency matrix cubed. Therefore, the a($_i$,$_j$) entry of $A^3$ equals the number of distinct walks of length 3 which start at vertex $v_i$ and end at vertex $v_i$. As we are computing walks every triangle will be counted 6 times, for this reason we have to divide each formula by $\\frac 1 6$.\n",
    "Using this information we can also compute the number of triangles using eigenvalues as we know trace(A) = $\\sum\\limits_{i=1}^n\\ \\lambda_i$. \n",
    "\n",
    "\n",
    "**Bibliography:**\n",
    "\n",
    "1) Y. Changyu. *Triangle Counting in Large Networks* University of Minnesota, 2012.<br>\n",
    "2) https://www.geeksforgeeks.org/number-of-triangles-in-a-undirected-graph/"
   ]
  },
  {
   "cell_type": "markdown",
   "metadata": {},
   "source": [
    "**12. [5 marks]** Calculate the number of triangles in your graph from Part I, using the formula discussed in question 11. Your answer **must** be an integer.\n",
    "\n",
    "Hint: What is the \"trace\" of a matrix and how is it related to the eigenvalues?"
   ]
  },
  {
   "cell_type": "code",
   "execution_count": 35,
   "metadata": {},
   "outputs": [],
   "source": [
    "Adjacency_matrix = nx.adjacency_matrix(G)\n",
    "Adjacency_matrix = Adjacency_matrix.toarray()\n",
    "#print(Adjacency_matrix)"
   ]
  },
  {
   "cell_type": "code",
   "execution_count": 36,
   "metadata": {},
   "outputs": [
    {
     "name": "stdout",
     "output_type": "stream",
     "text": [
      "The first step to compute the number of triangles is to cube the eigenvalues, but in order to do this I have to first work out the eigenvalues.\n",
      "\n",
      "The list of my eigenvalues which have been computed from my adjacency matrix.\n",
      "\n",
      "[5.298655478746906, -3.9941899145708524, -3.5579889674775873, -3.38263230766745, -3.2988612694693726, 3.4176152798711157, 3.3377002550583126, 3.2446089718763425, -2.8147488748578606, 2.6524214129625214, -2.5410751001077423, 2.4982043803955474, -2.2039556290608573, 2.1373156395301107, 2.0844686029195523, 1.8654258689716552, -1.9347684328155548, 1.6300122020200627, -1.7375348449537045, 1.5007684701846877, -1.6103771005223573, -1.452997737775241, -1.388926848269738, -1.3168528080768958, -1.2232794834879432, 1.2628340406205558, 1.2018635989597788, -1.0088349388173468, -0.8913390594646227, -0.8118198163558925, -0.7682949904618915, -0.6906844913577955, -0.522943270966626, 1.021379213563229, 0.9488005310071115, 0.8836923950935112, 0.7440958633465952, 0.6637622392622535, 0.5233266482565647, -0.35438595221638897, -0.19638507575663217, 0.32150734114361157, 0.2393310137034462, 0.1488199654998912, 0.07626750151702127, 3.016650140488068e-17, -7.161793070528954e-17]\n"
     ]
    }
   ],
   "source": [
    "eval_Adjacency_matrix, evec_Adjacency_matrix = la.eig(Adjacency_matrix)\n",
    "print(\"The first step to compute the number of triangles is to cube the eigenvalues, but in order to do this I have to first work out the eigenvalues.\") \n",
    "print()\n",
    "print(\"The list of my eigenvalues which have been computed from my adjacency matrix.\")\n",
    "print()\n",
    "print(list(eval_Adjacency_matrix))\n",
    "#This code computes the eigenvalues of the adjacency matrix and prints it as a list.\n",
    "#Code adapted from Week 9 lecture notes file:///C:/Users/Louie%20Lunat/Downloads/week9%20(1).pdf"
   ]
  },
  {
   "cell_type": "code",
   "execution_count": 37,
   "metadata": {},
   "outputs": [
    {
     "name": "stdout",
     "output_type": "stream",
     "text": [
      "The list of my eigenvalues cubed is:\n",
      "\n",
      "[148.7637259345959, -63.721520788381646, -45.04159811914802, -38.70475988589009, -35.8998105094893, 39.918068412384265, 37.18279187786709, 34.1575800056974, -22.300723991169857, 18.66068474454909, -16.407881156310616, 15.591356308500217, -10.705539066065743, 9.763510350212414, 9.057035583135566, 6.491334444122756, -7.242474567347655, 4.3308442593693846, -5.245665196649465, 3.380189831659371, -4.1762141336948355, -3.0675723489344944, -2.6794034917898144, -2.2835561902825128, -1.8305309482849768, 2.013904351581975, 1.736063256782424, -1.0267396745050148, -0.7081557969310909, -0.5350309980677596, -0.4535070098808885, -0.3294876291808701, -0.14300912094183763, 1.0655186248210937, 0.8541315363447622, 0.6900862158057833, 0.41198999595273533, 0.2924405733199664, 0.1433238777586248, -0.04450712021591646, -0.00757400245850361, 0.0332332398183434, 0.013708721099274377, 0.00329597264470619, 0.00044362760043861396, 2.745205345365375e-50, -3.673375335756817e-49]\n"
     ]
    }
   ],
   "source": [
    "My_lst=[]\n",
    "for x in (list(eval_Adjacency_matrix)):\n",
    "    My_lst.append(x**3)\n",
    "    #I have adapted my code to cube all of my eigenvalues.\n",
    "    #Code adapted from Week 6 lecture notes https://qmplus.qmul.ac.uk/pluginfile.php/1553643/mod_resource/content/1/week6.pdf\n",
    "print(\"The list of my eigenvalues cubed is:\")\n",
    "print()\n",
    "print(My_lst)\n",
    "#To ensure all the eigenvalues have been cubed"
   ]
  },
  {
   "cell_type": "code",
   "execution_count": 38,
   "metadata": {},
   "outputs": [
    {
     "name": "stdout",
     "output_type": "stream",
     "text": [
      " The next step is to sum all of my cubed eigenvalues, this yields the sum of the eigenvalues to be 72 .\n"
     ]
    }
   ],
   "source": [
    "Sum_of_eigenvalues_cubed = int(sum(My_lst))\n",
    "print(\" The next step is to sum all of my cubed eigenvalues, this yields the sum of the eigenvalues to be\", Sum_of_eigenvalues_cubed,\".\")\n",
    "#Code adapted from https://stackoverflow.com/questions/11344827/summing-elements-in-a-list"
   ]
  },
  {
   "cell_type": "code",
   "execution_count": 39,
   "metadata": {},
   "outputs": [
    {
     "name": "stdout",
     "output_type": "stream",
     "text": [
      "The final step is to divide the sum of the cubed eigenvalues by 6.\n",
      "Therefore, there are 12 triangles in my graph.\n"
     ]
    }
   ],
   "source": [
    "#The formula then states divide the sum of the eigenvalues cubed by 6.\n",
    "print(\"The final step is to divide the sum of the cubed eigenvalues by 6.\")\n",
    "print(\"Therefore, there are\", int(Sum_of_eigenvalues_cubed/6), \"triangles in my graph.\")"
   ]
  },
  {
   "cell_type": "markdown",
   "metadata": {},
   "source": [
    "**13. [10 marks]** Write a function `all_triangles` which finds all of the triangles in a graph. Use your function to count the number of triangles in your graph, and compare with your answer to question 12. (The two answers should, of course, be the same.)\n",
    "\n",
    "Note: You will need to use your function in the next question, so you should think carefully about what kind of data structure you want it to output."
   ]
  },
  {
   "cell_type": "code",
   "execution_count": 40,
   "metadata": {},
   "outputs": [
    {
     "name": "stdout",
     "output_type": "stream",
     "text": [
      "These nodes [[0, 2, 43], [0, 34, 43], [2, 12, 22], [3, 4, 35], [4, 23, 34], [4, 31, 34], [6, 41, 43], [12, 24, 45], [15, 20, 34], [17, 26, 27], [17, 26, 30], [26, 30, 44]] form triangles in my graph.\n"
     ]
    }
   ],
   "source": [
    "def all_triangles():\n",
    "    vertices_which_are_connected = nx.enumerate_all_cliques(G)\n",
    "    #A clique is defined as a graph where every vertex is adjacent to every other vertex.\n",
    "    triangles = list(x for x in vertices_which_are_connected if len(x)==3)\n",
    "    #print(triangles)\n",
    "    #The code will define a triangle if three nodes are directly connected to each other, hence, forming a triangle if the length of the clique is 3. \n",
    "    return (triangles)\n",
    "#code adapted from https://stackoverflow.com/questions/1705824/finding-cycle-of-3-nodes-or-triangles-in-a-graph\n",
    "#https://courses.cs.washington.edu/courses/cse527/01au/oct25/oct25.html\n",
    "print(\"These nodes\", all_triangles(), \"form triangles in my graph.\")\n",
    "#This prints the nodes of every triangle in my graph."
   ]
  },
  {
   "cell_type": "code",
   "execution_count": 41,
   "metadata": {},
   "outputs": [
    {
     "name": "stdout",
     "output_type": "stream",
     "text": [
      "12\n"
     ]
    }
   ],
   "source": [
    "print(len(all_triangles()))\n",
    "#To test my code worked for question 12"
   ]
  },
  {
   "cell_type": "markdown",
   "metadata": {},
   "source": [
    "**14. [10 marks]** Re-draw your graph from Part I once more, so that all of its triangles are clearly visible. \n",
    "You should use one colour for the edges that appear in at least one triangle, and a different colour for all other edges."
   ]
  },
  {
   "cell_type": "code",
   "execution_count": 42,
   "metadata": {},
   "outputs": [
    {
     "name": "stdout",
     "output_type": "stream",
     "text": [
      "This graph draws all of my triangles in green.\n"
     ]
    },
    {
     "data": {
      "image/png": "[encoded data removed]",
      "text/plain": [
       "<Figure size 432x288 with 1 Axes>"
      ]
     },
     "metadata": {},
     "output_type": "display_data"
    }
   ],
   "source": [
    "Position = nx.spring_layout(G, weight = None)\n",
    "#Code adapted from https://networkx.github.io/documentation/networkx-1.9/reference/generated/networkx.drawing.layout.spring_layout.html\n",
    "nx.draw_networkx(G, Position, node_color = 'yellow', edge_color = 'yellow', with_labels=True)\n",
    "nx.draw_networkx(G, Position, nodelist = [0, 2, 43], node_color = 'green', edgelist = [(0,2), (2,43), (43,0)], edge_color = 'green', with_labels = True)\n",
    "nx.draw_networkx(G, Position, nodelist = [0, 34, 43], node_color = 'green', edgelist = [(0,34), (34,43), (43,0)], edge_color = 'green', with_labels = True)\n",
    "nx.draw_networkx(G, Position, nodelist = [2, 12, 22], node_color = 'green', edgelist = [(2,12), (12,22), (22,2)], edge_color = 'green', with_labels = True)\n",
    "nx.draw_networkx(G, Position, nodelist = [3, 4, 35], node_color = 'green', edgelist = [(3,4), (4,35), (35,3)], edge_color = 'green', with_labels = True)\n",
    "nx.draw_networkx(G, Position, nodelist = [4, 23, 34], node_color = 'green', edgelist = [(4,23), (23,34), (34,4)], edge_color = 'green', with_labels = True)\n",
    "nx.draw_networkx(G, Position, nodelist = [4, 31, 34], node_color = 'green', edgelist = [(4,31), (31,34), (34,4)], edge_color = 'green', with_labels = True)\n",
    "nx.draw_networkx(G, Position, nodelist = [6, 41, 43], node_color = 'green', edgelist = [(6,41), (41,43), (43,6)], edge_color = 'green', with_labels = True)\n",
    "nx.draw_networkx(G, Position, nodelist = [12, 24, 45], node_color = 'green', edgelist = [(12,24), (24,45), (45,12)], edge_color = 'green', with_labels = True)\n",
    "nx.draw_networkx(G, Position, nodelist = [15, 20, 34], node_color = 'green', edgelist = [(15,20), (20,34), (34,15)], edge_color = 'green', with_labels = True)\n",
    "nx.draw_networkx(G, Position, nodelist = [17, 26, 27], node_color = 'green', edgelist = [(17,26), (26,27), (27,17)], edge_color = 'green', with_labels = True)\n",
    "nx.draw_networkx(G, Position, nodelist = [17, 26, 30], node_color = 'green', edgelist = [(17,26), (26,30), (30,17)], edge_color = 'green', with_labels = True)\n",
    "nx.draw_networkx(G, Position, nodelist = [26, 30, 44], node_color = 'green', edgelist = [(26,30), (30,44), (44,26)], edge_color = 'green', with_labels = True)\n",
    "#I have used the networkx function to draw each triangle. The previous question listed all the nodes which form a triangle and I inputted the edgelist based on the nodes that form the triangle.\n",
    "#Code adapted from https://networkx.github.io/documentation/networkx-1.10/reference/generated/networkx.drawing.nx_pylab.draw_networkx.html\n",
    "print(\"This graph draws all of my triangles in green.\")\n",
    "plt.xticks([])\n",
    "plt.yticks([])\n",
    "plt.show()"
   ]
  }
 ],
 "metadata": {
  "kernelspec": {
   "display_name": "Python 3",
   "language": "python",
   "name": "python3"
  },
  "language_info": {
   "codemirror_mode": {
    "name": "ipython",
    "version": 3
   },
   "file_extension": ".py",
   "mimetype": "text/x-python",
   "name": "python",
   "nbconvert_exporter": "python",
   "pygments_lexer": "ipython3",
   "version": "3.7.1"
  }
 },
 "nbformat": 4,
 "nbformat_minor": 2
}
